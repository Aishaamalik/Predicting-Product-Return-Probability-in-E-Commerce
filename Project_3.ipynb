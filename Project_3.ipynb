{
  "nbformat": 4,
  "nbformat_minor": 0,
  "metadata": {
    "colab": {
      "provenance": [],
      "authorship_tag": "ABX9TyNaJW9uPNwhOwht8x+kfkeC",
      "include_colab_link": true
    },
    "kernelspec": {
      "name": "python3",
      "display_name": "Python 3"
    },
    "language_info": {
      "name": "python"
    }
  },
  "cells": [
    {
      "cell_type": "markdown",
      "metadata": {
        "id": "view-in-github",
        "colab_type": "text"
      },
      "source": [
        "<a href=\"https://colab.research.google.com/github/Aishaamalik/Predicting-Product-Return-Probability-in-E-Commerce/blob/main/Project_3.ipynb\" target=\"_parent\"><img src=\"https://colab.research.google.com/assets/colab-badge.svg\" alt=\"Open In Colab\"/></a>"
      ]
    },
    {
      "cell_type": "markdown",
      "source": [
        "#Predicting Product Return Probability in E-Commerce\n"
      ],
      "metadata": {
        "id": "T3IMazPwadnu"
      }
    },
    {
      "cell_type": "code",
      "source": [
        "import pandas as pd\n",
        "\n",
        "df = pd.read_csv(\"ecommerce_returns_synthetic_data.csv\")\n",
        "\n",
        "df.head()\n"
      ],
      "metadata": {
        "colab": {
          "base_uri": "https://localhost:8080/",
          "height": 226
        },
        "id": "g3-z3FaYadAx",
        "outputId": "1420c2ac-c8cd-4621-dfa4-463bfb0beb5e"
      },
      "execution_count": 7,
      "outputs": [
        {
          "output_type": "execute_result",
          "data": {
            "text/plain": [
              "      Order_ID    Product_ID       User_ID  Order_Date Return_Date  \\\n",
              "0  ORD00000000  PROD00000000  USER00000000  2023-08-05  2024-08-26   \n",
              "1  ORD00000001  PROD00000001  USER00000001  2023-10-09  2023-11-09   \n",
              "2  ORD00000002  PROD00000002  USER00000002  2023-05-06         NaN   \n",
              "3  ORD00000003  PROD00000003  USER00000003  2024-08-29         NaN   \n",
              "4  ORD00000004  PROD00000004  USER00000004  2023-01-16         NaN   \n",
              "\n",
              "  Product_Category  Product_Price  Order_Quantity Return_Reason Return_Status  \\\n",
              "0         Clothing         411.59               3  Changed mind      Returned   \n",
              "1            Books         288.88               3    Wrong item      Returned   \n",
              "2             Toys         390.03               5           NaN  Not Returned   \n",
              "3             Toys         401.09               3           NaN  Not Returned   \n",
              "4            Books         110.09               4           NaN  Not Returned   \n",
              "\n",
              "   Days_to_Return  User_Age User_Gender User_Location Payment_Method  \\\n",
              "0           387.0        58        Male        City54     Debit Card   \n",
              "1            31.0        68      Female        City85    Credit Card   \n",
              "2             NaN        22      Female        City30     Debit Card   \n",
              "3             NaN        40        Male        City95         PayPal   \n",
              "4             NaN        34      Female        City80      Gift Card   \n",
              "\n",
              "  Shipping_Method  Discount_Applied  \n",
              "0        Next-Day             45.27  \n",
              "1         Express             47.79  \n",
              "2        Next-Day             26.64  \n",
              "3        Next-Day             15.37  \n",
              "4        Standard             16.37  "
            ],
            "text/html": [
              "\n",
              "  <div id=\"df-20b9601a-9d2e-474d-8faa-ca20908cd9e9\" class=\"colab-df-container\">\n",
              "    <div>\n",
              "<style scoped>\n",
              "    .dataframe tbody tr th:only-of-type {\n",
              "        vertical-align: middle;\n",
              "    }\n",
              "\n",
              "    .dataframe tbody tr th {\n",
              "        vertical-align: top;\n",
              "    }\n",
              "\n",
              "    .dataframe thead th {\n",
              "        text-align: right;\n",
              "    }\n",
              "</style>\n",
              "<table border=\"1\" class=\"dataframe\">\n",
              "  <thead>\n",
              "    <tr style=\"text-align: right;\">\n",
              "      <th></th>\n",
              "      <th>Order_ID</th>\n",
              "      <th>Product_ID</th>\n",
              "      <th>User_ID</th>\n",
              "      <th>Order_Date</th>\n",
              "      <th>Return_Date</th>\n",
              "      <th>Product_Category</th>\n",
              "      <th>Product_Price</th>\n",
              "      <th>Order_Quantity</th>\n",
              "      <th>Return_Reason</th>\n",
              "      <th>Return_Status</th>\n",
              "      <th>Days_to_Return</th>\n",
              "      <th>User_Age</th>\n",
              "      <th>User_Gender</th>\n",
              "      <th>User_Location</th>\n",
              "      <th>Payment_Method</th>\n",
              "      <th>Shipping_Method</th>\n",
              "      <th>Discount_Applied</th>\n",
              "    </tr>\n",
              "  </thead>\n",
              "  <tbody>\n",
              "    <tr>\n",
              "      <th>0</th>\n",
              "      <td>ORD00000000</td>\n",
              "      <td>PROD00000000</td>\n",
              "      <td>USER00000000</td>\n",
              "      <td>2023-08-05</td>\n",
              "      <td>2024-08-26</td>\n",
              "      <td>Clothing</td>\n",
              "      <td>411.59</td>\n",
              "      <td>3</td>\n",
              "      <td>Changed mind</td>\n",
              "      <td>Returned</td>\n",
              "      <td>387.0</td>\n",
              "      <td>58</td>\n",
              "      <td>Male</td>\n",
              "      <td>City54</td>\n",
              "      <td>Debit Card</td>\n",
              "      <td>Next-Day</td>\n",
              "      <td>45.27</td>\n",
              "    </tr>\n",
              "    <tr>\n",
              "      <th>1</th>\n",
              "      <td>ORD00000001</td>\n",
              "      <td>PROD00000001</td>\n",
              "      <td>USER00000001</td>\n",
              "      <td>2023-10-09</td>\n",
              "      <td>2023-11-09</td>\n",
              "      <td>Books</td>\n",
              "      <td>288.88</td>\n",
              "      <td>3</td>\n",
              "      <td>Wrong item</td>\n",
              "      <td>Returned</td>\n",
              "      <td>31.0</td>\n",
              "      <td>68</td>\n",
              "      <td>Female</td>\n",
              "      <td>City85</td>\n",
              "      <td>Credit Card</td>\n",
              "      <td>Express</td>\n",
              "      <td>47.79</td>\n",
              "    </tr>\n",
              "    <tr>\n",
              "      <th>2</th>\n",
              "      <td>ORD00000002</td>\n",
              "      <td>PROD00000002</td>\n",
              "      <td>USER00000002</td>\n",
              "      <td>2023-05-06</td>\n",
              "      <td>NaN</td>\n",
              "      <td>Toys</td>\n",
              "      <td>390.03</td>\n",
              "      <td>5</td>\n",
              "      <td>NaN</td>\n",
              "      <td>Not Returned</td>\n",
              "      <td>NaN</td>\n",
              "      <td>22</td>\n",
              "      <td>Female</td>\n",
              "      <td>City30</td>\n",
              "      <td>Debit Card</td>\n",
              "      <td>Next-Day</td>\n",
              "      <td>26.64</td>\n",
              "    </tr>\n",
              "    <tr>\n",
              "      <th>3</th>\n",
              "      <td>ORD00000003</td>\n",
              "      <td>PROD00000003</td>\n",
              "      <td>USER00000003</td>\n",
              "      <td>2024-08-29</td>\n",
              "      <td>NaN</td>\n",
              "      <td>Toys</td>\n",
              "      <td>401.09</td>\n",
              "      <td>3</td>\n",
              "      <td>NaN</td>\n",
              "      <td>Not Returned</td>\n",
              "      <td>NaN</td>\n",
              "      <td>40</td>\n",
              "      <td>Male</td>\n",
              "      <td>City95</td>\n",
              "      <td>PayPal</td>\n",
              "      <td>Next-Day</td>\n",
              "      <td>15.37</td>\n",
              "    </tr>\n",
              "    <tr>\n",
              "      <th>4</th>\n",
              "      <td>ORD00000004</td>\n",
              "      <td>PROD00000004</td>\n",
              "      <td>USER00000004</td>\n",
              "      <td>2023-01-16</td>\n",
              "      <td>NaN</td>\n",
              "      <td>Books</td>\n",
              "      <td>110.09</td>\n",
              "      <td>4</td>\n",
              "      <td>NaN</td>\n",
              "      <td>Not Returned</td>\n",
              "      <td>NaN</td>\n",
              "      <td>34</td>\n",
              "      <td>Female</td>\n",
              "      <td>City80</td>\n",
              "      <td>Gift Card</td>\n",
              "      <td>Standard</td>\n",
              "      <td>16.37</td>\n",
              "    </tr>\n",
              "  </tbody>\n",
              "</table>\n",
              "</div>\n",
              "    <div class=\"colab-df-buttons\">\n",
              "\n",
              "  <div class=\"colab-df-container\">\n",
              "    <button class=\"colab-df-convert\" onclick=\"convertToInteractive('df-20b9601a-9d2e-474d-8faa-ca20908cd9e9')\"\n",
              "            title=\"Convert this dataframe to an interactive table.\"\n",
              "            style=\"display:none;\">\n",
              "\n",
              "  <svg xmlns=\"http://www.w3.org/2000/svg\" height=\"24px\" viewBox=\"0 -960 960 960\">\n",
              "    <path d=\"M120-120v-720h720v720H120Zm60-500h600v-160H180v160Zm220 220h160v-160H400v160Zm0 220h160v-160H400v160ZM180-400h160v-160H180v160Zm440 0h160v-160H620v160ZM180-180h160v-160H180v160Zm440 0h160v-160H620v160Z\"/>\n",
              "  </svg>\n",
              "    </button>\n",
              "\n",
              "  <style>\n",
              "    .colab-df-container {\n",
              "      display:flex;\n",
              "      gap: 12px;\n",
              "    }\n",
              "\n",
              "    .colab-df-convert {\n",
              "      background-color: #E8F0FE;\n",
              "      border: none;\n",
              "      border-radius: 50%;\n",
              "      cursor: pointer;\n",
              "      display: none;\n",
              "      fill: #1967D2;\n",
              "      height: 32px;\n",
              "      padding: 0 0 0 0;\n",
              "      width: 32px;\n",
              "    }\n",
              "\n",
              "    .colab-df-convert:hover {\n",
              "      background-color: #E2EBFA;\n",
              "      box-shadow: 0px 1px 2px rgba(60, 64, 67, 0.3), 0px 1px 3px 1px rgba(60, 64, 67, 0.15);\n",
              "      fill: #174EA6;\n",
              "    }\n",
              "\n",
              "    .colab-df-buttons div {\n",
              "      margin-bottom: 4px;\n",
              "    }\n",
              "\n",
              "    [theme=dark] .colab-df-convert {\n",
              "      background-color: #3B4455;\n",
              "      fill: #D2E3FC;\n",
              "    }\n",
              "\n",
              "    [theme=dark] .colab-df-convert:hover {\n",
              "      background-color: #434B5C;\n",
              "      box-shadow: 0px 1px 3px 1px rgba(0, 0, 0, 0.15);\n",
              "      filter: drop-shadow(0px 1px 2px rgba(0, 0, 0, 0.3));\n",
              "      fill: #FFFFFF;\n",
              "    }\n",
              "  </style>\n",
              "\n",
              "    <script>\n",
              "      const buttonEl =\n",
              "        document.querySelector('#df-20b9601a-9d2e-474d-8faa-ca20908cd9e9 button.colab-df-convert');\n",
              "      buttonEl.style.display =\n",
              "        google.colab.kernel.accessAllowed ? 'block' : 'none';\n",
              "\n",
              "      async function convertToInteractive(key) {\n",
              "        const element = document.querySelector('#df-20b9601a-9d2e-474d-8faa-ca20908cd9e9');\n",
              "        const dataTable =\n",
              "          await google.colab.kernel.invokeFunction('convertToInteractive',\n",
              "                                                    [key], {});\n",
              "        if (!dataTable) return;\n",
              "\n",
              "        const docLinkHtml = 'Like what you see? Visit the ' +\n",
              "          '<a target=\"_blank\" href=https://colab.research.google.com/notebooks/data_table.ipynb>data table notebook</a>'\n",
              "          + ' to learn more about interactive tables.';\n",
              "        element.innerHTML = '';\n",
              "        dataTable['output_type'] = 'display_data';\n",
              "        await google.colab.output.renderOutput(dataTable, element);\n",
              "        const docLink = document.createElement('div');\n",
              "        docLink.innerHTML = docLinkHtml;\n",
              "        element.appendChild(docLink);\n",
              "      }\n",
              "    </script>\n",
              "  </div>\n",
              "\n",
              "\n",
              "    <div id=\"df-7c6cdf70-eac1-4a23-ad4d-ce44ce0413bf\">\n",
              "      <button class=\"colab-df-quickchart\" onclick=\"quickchart('df-7c6cdf70-eac1-4a23-ad4d-ce44ce0413bf')\"\n",
              "                title=\"Suggest charts\"\n",
              "                style=\"display:none;\">\n",
              "\n",
              "<svg xmlns=\"http://www.w3.org/2000/svg\" height=\"24px\"viewBox=\"0 0 24 24\"\n",
              "     width=\"24px\">\n",
              "    <g>\n",
              "        <path d=\"M19 3H5c-1.1 0-2 .9-2 2v14c0 1.1.9 2 2 2h14c1.1 0 2-.9 2-2V5c0-1.1-.9-2-2-2zM9 17H7v-7h2v7zm4 0h-2V7h2v10zm4 0h-2v-4h2v4z\"/>\n",
              "    </g>\n",
              "</svg>\n",
              "      </button>\n",
              "\n",
              "<style>\n",
              "  .colab-df-quickchart {\n",
              "      --bg-color: #E8F0FE;\n",
              "      --fill-color: #1967D2;\n",
              "      --hover-bg-color: #E2EBFA;\n",
              "      --hover-fill-color: #174EA6;\n",
              "      --disabled-fill-color: #AAA;\n",
              "      --disabled-bg-color: #DDD;\n",
              "  }\n",
              "\n",
              "  [theme=dark] .colab-df-quickchart {\n",
              "      --bg-color: #3B4455;\n",
              "      --fill-color: #D2E3FC;\n",
              "      --hover-bg-color: #434B5C;\n",
              "      --hover-fill-color: #FFFFFF;\n",
              "      --disabled-bg-color: #3B4455;\n",
              "      --disabled-fill-color: #666;\n",
              "  }\n",
              "\n",
              "  .colab-df-quickchart {\n",
              "    background-color: var(--bg-color);\n",
              "    border: none;\n",
              "    border-radius: 50%;\n",
              "    cursor: pointer;\n",
              "    display: none;\n",
              "    fill: var(--fill-color);\n",
              "    height: 32px;\n",
              "    padding: 0;\n",
              "    width: 32px;\n",
              "  }\n",
              "\n",
              "  .colab-df-quickchart:hover {\n",
              "    background-color: var(--hover-bg-color);\n",
              "    box-shadow: 0 1px 2px rgba(60, 64, 67, 0.3), 0 1px 3px 1px rgba(60, 64, 67, 0.15);\n",
              "    fill: var(--button-hover-fill-color);\n",
              "  }\n",
              "\n",
              "  .colab-df-quickchart-complete:disabled,\n",
              "  .colab-df-quickchart-complete:disabled:hover {\n",
              "    background-color: var(--disabled-bg-color);\n",
              "    fill: var(--disabled-fill-color);\n",
              "    box-shadow: none;\n",
              "  }\n",
              "\n",
              "  .colab-df-spinner {\n",
              "    border: 2px solid var(--fill-color);\n",
              "    border-color: transparent;\n",
              "    border-bottom-color: var(--fill-color);\n",
              "    animation:\n",
              "      spin 1s steps(1) infinite;\n",
              "  }\n",
              "\n",
              "  @keyframes spin {\n",
              "    0% {\n",
              "      border-color: transparent;\n",
              "      border-bottom-color: var(--fill-color);\n",
              "      border-left-color: var(--fill-color);\n",
              "    }\n",
              "    20% {\n",
              "      border-color: transparent;\n",
              "      border-left-color: var(--fill-color);\n",
              "      border-top-color: var(--fill-color);\n",
              "    }\n",
              "    30% {\n",
              "      border-color: transparent;\n",
              "      border-left-color: var(--fill-color);\n",
              "      border-top-color: var(--fill-color);\n",
              "      border-right-color: var(--fill-color);\n",
              "    }\n",
              "    40% {\n",
              "      border-color: transparent;\n",
              "      border-right-color: var(--fill-color);\n",
              "      border-top-color: var(--fill-color);\n",
              "    }\n",
              "    60% {\n",
              "      border-color: transparent;\n",
              "      border-right-color: var(--fill-color);\n",
              "    }\n",
              "    80% {\n",
              "      border-color: transparent;\n",
              "      border-right-color: var(--fill-color);\n",
              "      border-bottom-color: var(--fill-color);\n",
              "    }\n",
              "    90% {\n",
              "      border-color: transparent;\n",
              "      border-bottom-color: var(--fill-color);\n",
              "    }\n",
              "  }\n",
              "</style>\n",
              "\n",
              "      <script>\n",
              "        async function quickchart(key) {\n",
              "          const quickchartButtonEl =\n",
              "            document.querySelector('#' + key + ' button');\n",
              "          quickchartButtonEl.disabled = true;  // To prevent multiple clicks.\n",
              "          quickchartButtonEl.classList.add('colab-df-spinner');\n",
              "          try {\n",
              "            const charts = await google.colab.kernel.invokeFunction(\n",
              "                'suggestCharts', [key], {});\n",
              "          } catch (error) {\n",
              "            console.error('Error during call to suggestCharts:', error);\n",
              "          }\n",
              "          quickchartButtonEl.classList.remove('colab-df-spinner');\n",
              "          quickchartButtonEl.classList.add('colab-df-quickchart-complete');\n",
              "        }\n",
              "        (() => {\n",
              "          let quickchartButtonEl =\n",
              "            document.querySelector('#df-7c6cdf70-eac1-4a23-ad4d-ce44ce0413bf button');\n",
              "          quickchartButtonEl.style.display =\n",
              "            google.colab.kernel.accessAllowed ? 'block' : 'none';\n",
              "        })();\n",
              "      </script>\n",
              "    </div>\n",
              "\n",
              "    </div>\n",
              "  </div>\n"
            ],
            "application/vnd.google.colaboratory.intrinsic+json": {
              "type": "dataframe",
              "variable_name": "df",
              "summary": "{\n  \"name\": \"df\",\n  \"rows\": 10000,\n  \"fields\": [\n    {\n      \"column\": \"Order_ID\",\n      \"properties\": {\n        \"dtype\": \"string\",\n        \"num_unique_values\": 10000,\n        \"samples\": [\n          \"ORD00006252\",\n          \"ORD00004684\",\n          \"ORD00001731\"\n        ],\n        \"semantic_type\": \"\",\n        \"description\": \"\"\n      }\n    },\n    {\n      \"column\": \"Product_ID\",\n      \"properties\": {\n        \"dtype\": \"string\",\n        \"num_unique_values\": 10000,\n        \"samples\": [\n          \"PROD00006252\",\n          \"PROD00004684\",\n          \"PROD00001731\"\n        ],\n        \"semantic_type\": \"\",\n        \"description\": \"\"\n      }\n    },\n    {\n      \"column\": \"User_ID\",\n      \"properties\": {\n        \"dtype\": \"string\",\n        \"num_unique_values\": 10000,\n        \"samples\": [\n          \"USER00006252\",\n          \"USER00004684\",\n          \"USER00001731\"\n        ],\n        \"semantic_type\": \"\",\n        \"description\": \"\"\n      }\n    },\n    {\n      \"column\": \"Order_Date\",\n      \"properties\": {\n        \"dtype\": \"object\",\n        \"num_unique_values\": 731,\n        \"samples\": [\n          \"2023-06-23\",\n          \"2023-09-07\",\n          \"2023-09-23\"\n        ],\n        \"semantic_type\": \"\",\n        \"description\": \"\"\n      }\n    },\n    {\n      \"column\": \"Return_Date\",\n      \"properties\": {\n        \"dtype\": \"object\",\n        \"num_unique_values\": 729,\n        \"samples\": [\n          \"2023-10-28\",\n          \"2024-08-12\",\n          \"2024-08-09\"\n        ],\n        \"semantic_type\": \"\",\n        \"description\": \"\"\n      }\n    },\n    {\n      \"column\": \"Product_Category\",\n      \"properties\": {\n        \"dtype\": \"category\",\n        \"num_unique_values\": 5,\n        \"samples\": [\n          \"Books\",\n          \"Home\",\n          \"Toys\"\n        ],\n        \"semantic_type\": \"\",\n        \"description\": \"\"\n      }\n    },\n    {\n      \"column\": \"Product_Price\",\n      \"properties\": {\n        \"dtype\": \"number\",\n        \"std\": 142.88386490109585,\n        \"min\": 5.01,\n        \"max\": 499.89,\n        \"num_unique_values\": 9074,\n        \"samples\": [\n          302.15,\n          280.97,\n          418.63\n        ],\n        \"semantic_type\": \"\",\n        \"description\": \"\"\n      }\n    },\n    {\n      \"column\": \"Order_Quantity\",\n      \"properties\": {\n        \"dtype\": \"number\",\n        \"std\": 1,\n        \"min\": 1,\n        \"max\": 5,\n        \"num_unique_values\": 5,\n        \"samples\": [\n          5,\n          2,\n          4\n        ],\n        \"semantic_type\": \"\",\n        \"description\": \"\"\n      }\n    },\n    {\n      \"column\": \"Return_Reason\",\n      \"properties\": {\n        \"dtype\": \"category\",\n        \"num_unique_values\": 4,\n        \"samples\": [\n          \"Wrong item\",\n          \"Not as described\",\n          \"Changed mind\"\n        ],\n        \"semantic_type\": \"\",\n        \"description\": \"\"\n      }\n    },\n    {\n      \"column\": \"Return_Status\",\n      \"properties\": {\n        \"dtype\": \"category\",\n        \"num_unique_values\": 2,\n        \"samples\": [\n          \"Not Returned\",\n          \"Returned\"\n        ],\n        \"semantic_type\": \"\",\n        \"description\": \"\"\n      }\n    },\n    {\n      \"column\": \"Days_to_Return\",\n      \"properties\": {\n        \"dtype\": \"number\",\n        \"std\": 297.9832084341581,\n        \"min\": -719.0,\n        \"max\": 726.0,\n        \"num_unique_values\": 1249,\n        \"samples\": [\n          378.0,\n          -408.0\n        ],\n        \"semantic_type\": \"\",\n        \"description\": \"\"\n      }\n    },\n    {\n      \"column\": \"User_Age\",\n      \"properties\": {\n        \"dtype\": \"number\",\n        \"std\": 15,\n        \"min\": 18,\n        \"max\": 70,\n        \"num_unique_values\": 53,\n        \"samples\": [\n          30,\n          29\n        ],\n        \"semantic_type\": \"\",\n        \"description\": \"\"\n      }\n    },\n    {\n      \"column\": \"User_Gender\",\n      \"properties\": {\n        \"dtype\": \"category\",\n        \"num_unique_values\": 2,\n        \"samples\": [\n          \"Female\",\n          \"Male\"\n        ],\n        \"semantic_type\": \"\",\n        \"description\": \"\"\n      }\n    },\n    {\n      \"column\": \"User_Location\",\n      \"properties\": {\n        \"dtype\": \"category\",\n        \"num_unique_values\": 100,\n        \"samples\": [\n          \"City21\",\n          \"City92\"\n        ],\n        \"semantic_type\": \"\",\n        \"description\": \"\"\n      }\n    },\n    {\n      \"column\": \"Payment_Method\",\n      \"properties\": {\n        \"dtype\": \"category\",\n        \"num_unique_values\": 4,\n        \"samples\": [\n          \"Credit Card\",\n          \"Gift Card\"\n        ],\n        \"semantic_type\": \"\",\n        \"description\": \"\"\n      }\n    },\n    {\n      \"column\": \"Shipping_Method\",\n      \"properties\": {\n        \"dtype\": \"category\",\n        \"num_unique_values\": 3,\n        \"samples\": [\n          \"Next-Day\",\n          \"Express\"\n        ],\n        \"semantic_type\": \"\",\n        \"description\": \"\"\n      }\n    },\n    {\n      \"column\": \"Discount_Applied\",\n      \"properties\": {\n        \"dtype\": \"number\",\n        \"std\": 14.363396344918305,\n        \"min\": 0.0,\n        \"max\": 50.0,\n        \"num_unique_values\": 4317,\n        \"samples\": [\n          8.91,\n          49.65\n        ],\n        \"semantic_type\": \"\",\n        \"description\": \"\"\n      }\n    }\n  ]\n}"
            }
          },
          "metadata": {},
          "execution_count": 7
        }
      ]
    },
    {
      "cell_type": "markdown",
      "source": [
        "# 1: Data Cleaning and Processing"
      ],
      "metadata": {
        "id": "k1ZgBjDtbT07"
      }
    },
    {
      "cell_type": "markdown",
      "source": [
        " **Objective**\n",
        "\n",
        "- Handle missing values\n",
        "\n",
        "- Encode categorical variables appropriately\n",
        "\n",
        "- Extract features from dates\n",
        "\n",
        "- Normalize numerical data\n",
        "\n",
        "- Select relevant features for modeling"
      ],
      "metadata": {
        "id": "3C0MNjgJbaTK"
      }
    },
    {
      "cell_type": "markdown",
      "source": [
        "##1.1 Handling Missing Values"
      ],
      "metadata": {
        "id": "PNGIjcssb2xj"
      }
    },
    {
      "cell_type": "code",
      "source": [
        "df.isnull().sum()\n"
      ],
      "metadata": {
        "colab": {
          "base_uri": "https://localhost:8080/",
          "height": 617
        },
        "id": "fPlo30P5b8Fn",
        "outputId": "9b59c1b4-daef-44bd-9aaa-d9b34d956ee6"
      },
      "execution_count": 8,
      "outputs": [
        {
          "output_type": "execute_result",
          "data": {
            "text/plain": [
              "Order_ID               0\n",
              "Product_ID             0\n",
              "User_ID                0\n",
              "Order_Date             0\n",
              "Return_Date         4948\n",
              "Product_Category       0\n",
              "Product_Price          0\n",
              "Order_Quantity         0\n",
              "Return_Reason       4948\n",
              "Return_Status          0\n",
              "Days_to_Return      4948\n",
              "User_Age               0\n",
              "User_Gender            0\n",
              "User_Location          0\n",
              "Payment_Method         0\n",
              "Shipping_Method        0\n",
              "Discount_Applied       0\n",
              "dtype: int64"
            ],
            "text/html": [
              "<div>\n",
              "<style scoped>\n",
              "    .dataframe tbody tr th:only-of-type {\n",
              "        vertical-align: middle;\n",
              "    }\n",
              "\n",
              "    .dataframe tbody tr th {\n",
              "        vertical-align: top;\n",
              "    }\n",
              "\n",
              "    .dataframe thead th {\n",
              "        text-align: right;\n",
              "    }\n",
              "</style>\n",
              "<table border=\"1\" class=\"dataframe\">\n",
              "  <thead>\n",
              "    <tr style=\"text-align: right;\">\n",
              "      <th></th>\n",
              "      <th>0</th>\n",
              "    </tr>\n",
              "  </thead>\n",
              "  <tbody>\n",
              "    <tr>\n",
              "      <th>Order_ID</th>\n",
              "      <td>0</td>\n",
              "    </tr>\n",
              "    <tr>\n",
              "      <th>Product_ID</th>\n",
              "      <td>0</td>\n",
              "    </tr>\n",
              "    <tr>\n",
              "      <th>User_ID</th>\n",
              "      <td>0</td>\n",
              "    </tr>\n",
              "    <tr>\n",
              "      <th>Order_Date</th>\n",
              "      <td>0</td>\n",
              "    </tr>\n",
              "    <tr>\n",
              "      <th>Return_Date</th>\n",
              "      <td>4948</td>\n",
              "    </tr>\n",
              "    <tr>\n",
              "      <th>Product_Category</th>\n",
              "      <td>0</td>\n",
              "    </tr>\n",
              "    <tr>\n",
              "      <th>Product_Price</th>\n",
              "      <td>0</td>\n",
              "    </tr>\n",
              "    <tr>\n",
              "      <th>Order_Quantity</th>\n",
              "      <td>0</td>\n",
              "    </tr>\n",
              "    <tr>\n",
              "      <th>Return_Reason</th>\n",
              "      <td>4948</td>\n",
              "    </tr>\n",
              "    <tr>\n",
              "      <th>Return_Status</th>\n",
              "      <td>0</td>\n",
              "    </tr>\n",
              "    <tr>\n",
              "      <th>Days_to_Return</th>\n",
              "      <td>4948</td>\n",
              "    </tr>\n",
              "    <tr>\n",
              "      <th>User_Age</th>\n",
              "      <td>0</td>\n",
              "    </tr>\n",
              "    <tr>\n",
              "      <th>User_Gender</th>\n",
              "      <td>0</td>\n",
              "    </tr>\n",
              "    <tr>\n",
              "      <th>User_Location</th>\n",
              "      <td>0</td>\n",
              "    </tr>\n",
              "    <tr>\n",
              "      <th>Payment_Method</th>\n",
              "      <td>0</td>\n",
              "    </tr>\n",
              "    <tr>\n",
              "      <th>Shipping_Method</th>\n",
              "      <td>0</td>\n",
              "    </tr>\n",
              "    <tr>\n",
              "      <th>Discount_Applied</th>\n",
              "      <td>0</td>\n",
              "    </tr>\n",
              "  </tbody>\n",
              "</table>\n",
              "</div><br><label><b>dtype:</b> int64</label>"
            ]
          },
          "metadata": {},
          "execution_count": 8
        }
      ]
    },
    {
      "cell_type": "markdown",
      "source": [
        "- Return_Date, Return_Reason, and Days_to_Return have missing values.\n",
        "\n",
        "- These are expected for orders that were not returned (i.e., Return_Status == 'Not Returned').\n",
        "\n",
        "We’ll fill them with placeholder values"
      ],
      "metadata": {
        "id": "ku1K75wkcV7v"
      }
    },
    {
      "cell_type": "code",
      "source": [
        "df.loc[df['Return_Status'] == 'Not Returned', 'Return_Date'] = 'Not Returned'\n",
        "df.loc[df['Return_Status'] == 'Not Returned', 'Return_Reason'] = 'Not Applicable'\n",
        "df.loc[df['Return_Status'] == 'Not Returned', 'Days_to_Return'] = 0\n"
      ],
      "metadata": {
        "id": "D76JyYwjcT2b"
      },
      "execution_count": 20,
      "outputs": []
    },
    {
      "cell_type": "markdown",
      "source": [
        "##1.2 Encode Categorical Variables\n",
        "\n",
        " - One-hot encoding: Nominal variables with multiple values (e.g., Product_Category, Payment_Method, Shipping_Method)\n",
        "\n",
        "- Label encoding: Binary categories (e.g., User_Gender)\n"
      ],
      "metadata": {
        "id": "4cLfTfh6clbg"
      }
    },
    {
      "cell_type": "markdown",
      "source": [
        "### a: One-Hot Encoding (for nominal categorical features)"
      ],
      "metadata": {
        "id": "GZj06VvLenam"
      }
    },
    {
      "cell_type": "code",
      "source": [
        "nominal_cols = ['Product_Category', 'Payment_Method', 'Shipping_Method', 'User_Location']\n",
        "\n",
        "nominal_cols_existing = [col for col in nominal_cols if col in df.columns]\n",
        "\n",
        "if nominal_cols_existing:\n",
        "    df = pd.get_dummies(df, columns=nominal_cols_existing, drop_first=True)\n",
        "else:\n",
        "    print(\"All nominal columns have already been encoded.\")\n"
      ],
      "metadata": {
        "colab": {
          "base_uri": "https://localhost:8080/"
        },
        "id": "cSvc-HGKeqQ0",
        "outputId": "7ecb62c9-3dfe-4a46-b7b4-96093e250ede"
      },
      "execution_count": 52,
      "outputs": [
        {
          "output_type": "stream",
          "name": "stdout",
          "text": [
            "All nominal columns have already been encoded.\n"
          ]
        }
      ]
    },
    {
      "cell_type": "markdown",
      "source": [
        "### b: Label Encoding (for binary categorical features)"
      ],
      "metadata": {
        "id": "x5gxTihEe2NG"
      }
    },
    {
      "cell_type": "code",
      "source": [
        "df['User_Gender'] = df['User_Gender'].map({'Male': 1, 'Female': 0})\n"
      ],
      "metadata": {
        "id": "Uo5ZTHYje2fp"
      },
      "execution_count": 23,
      "outputs": []
    },
    {
      "cell_type": "markdown",
      "source": [
        "Final Optional Check: See remaining missing values"
      ],
      "metadata": {
        "id": "2vKCdIShfOG_"
      }
    },
    {
      "cell_type": "code",
      "source": [
        "print(df.isnull().sum())\n"
      ],
      "metadata": {
        "colab": {
          "base_uri": "https://localhost:8080/"
        },
        "id": "SynktVZOfQEo",
        "outputId": "4012bb62-f2bb-4758-ea1b-5272dfb6eeb1"
      },
      "execution_count": 24,
      "outputs": [
        {
          "output_type": "stream",
          "name": "stdout",
          "text": [
            "Order_ID                0\n",
            "Product_ID              0\n",
            "User_ID                 0\n",
            "Order_Date              0\n",
            "Return_Date             0\n",
            "                       ..\n",
            "User_Location_City95    0\n",
            "User_Location_City96    0\n",
            "User_Location_City97    0\n",
            "User_Location_City98    0\n",
            "User_Location_City99    0\n",
            "Length: 121, dtype: int64\n"
          ]
        }
      ]
    },
    {
      "cell_type": "markdown",
      "source": [
        "##1.3 Convert Order_Date to Datetime and Extract Features"
      ],
      "metadata": {
        "id": "DSZkKyJfgFMT"
      }
    },
    {
      "cell_type": "code",
      "source": [
        "df['Order_Date'] = pd.to_datetime(df['Order_Date'])\n",
        "\n",
        "df['Order_Month'] = df['Order_Date'].dt.month\n",
        "df['Order_DayOfWeek'] = df['Order_Date'].dt.dayofweek\n",
        "\n",
        "df.drop(columns=['Order_Date', 'Return_Date'], inplace=True)\n"
      ],
      "metadata": {
        "id": "hS7soY99gHxG"
      },
      "execution_count": 25,
      "outputs": []
    },
    {
      "cell_type": "markdown",
      "source": [
        "##1.4 Normalize Numerical Features\n",
        "\n",
        "List of Numerical Columns to Scale"
      ],
      "metadata": {
        "id": "05I_Z7REgMwU"
      }
    },
    {
      "cell_type": "code",
      "source": [
        "from sklearn.preprocessing import StandardScaler\n",
        "\n",
        "num_cols = ['Product_Price', 'Order_Quantity', 'User_Age', 'Discount_Applied', 'Days_to_Return']\n",
        "\n",
        "df['Days_to_Return'] = df['Days_to_Return'].fillna(0)\n",
        "\n",
        "scaler = StandardScaler()\n",
        "df[num_cols] = scaler.fit_transform(df[num_cols])\n"
      ],
      "metadata": {
        "id": "x6Yl7m6rgUiU"
      },
      "execution_count": 41,
      "outputs": []
    },
    {
      "cell_type": "markdown",
      "source": [
        "##1.5 Feature Selection\n",
        "\n"
      ],
      "metadata": {
        "id": "4GporjcrgYTw"
      }
    },
    {
      "cell_type": "markdown",
      "source": [
        "### a: Drop Irrelevant / Highly Correlated Features"
      ],
      "metadata": {
        "id": "gkhyD-Lnk9_l"
      }
    },
    {
      "cell_type": "markdown",
      "source": [
        "We'll remove columns that are:\n",
        "\n",
        "- Identifiers (Order_ID, User_ID, etc.)\n",
        "\n",
        "- Dates (Order_Date, Return_Date)\n",
        "\n",
        "- Highly correlated numerical features (e.g., if correlation > 0.9)"
      ],
      "metadata": {
        "id": "TFvvarGDkanz"
      }
    },
    {
      "cell_type": "code",
      "source": [
        "import pandas as pd\n",
        "import seaborn as sns\n",
        "import matplotlib.pyplot as plt\n",
        "\n",
        "irrelevant_cols = ['Order_ID', 'User_ID', 'Product_ID', 'Order_Date', 'Return_Date']\n",
        "df_cleaned = df.drop(columns=irrelevant_cols, errors='ignore')\n",
        "\n",
        "if 'Return' not in df_cleaned.columns:\n",
        "    if 'Return_Status' in df_cleaned.columns:\n",
        "        df_cleaned['Return'] = df_cleaned['Return_Status'].map({'Returned': 1, 'Not Returned': 0})\n",
        "\n",
        "df_cleaned = df_cleaned.drop(columns=['Return_Status'], errors='ignore')\n",
        "\n",
        "corr_matrix = df_cleaned.select_dtypes(include=['int64', 'float64']).corr()\n",
        "\n",
        "upper = corr_matrix.where(np.triu(np.ones(corr_matrix.shape), k=1).astype(bool))\n",
        "to_drop = [column for column in upper.columns if any(upper[column] > 0.9)]\n",
        "\n",
        "df_cleaned = df_cleaned.drop(columns=to_drop, errors='ignore')\n",
        "\n",
        "print(f\"Dropped for high correlation: {to_drop}\")\n"
      ],
      "metadata": {
        "colab": {
          "base_uri": "https://localhost:8080/"
        },
        "id": "El-gfjRwgfLd",
        "outputId": "22525631-4a80-477d-9f07-db07690e9501"
      },
      "execution_count": 58,
      "outputs": [
        {
          "output_type": "stream",
          "name": "stdout",
          "text": [
            "Dropped for high correlation: []\n"
          ]
        }
      ]
    },
    {
      "cell_type": "markdown",
      "source": [
        "\n",
        "### b: Feature Importance using Random Forest\n",
        "\n"
      ],
      "metadata": {
        "id": "DtgToIarkPfk"
      }
    },
    {
      "cell_type": "code",
      "source": [
        "from sklearn.ensemble import RandomForestClassifier\n",
        "\n",
        "X = df_cleaned.drop(columns=['Return'])\n",
        "y = df_cleaned['Return']\n",
        "\n",
        "rf = RandomForestClassifier(random_state=42)\n",
        "rf.fit(X, y)\n",
        "\n",
        "importances = pd.DataFrame({\n",
        "    'Feature': X.columns,\n",
        "    'Importance': rf.feature_importances_\n",
        "}).sort_values(by='Importance', ascending=False)\n",
        "\n",
        "print(\"Top 15 Important Features:\")\n",
        "print(importances.head(15))\n",
        "\n",
        "plt.figure(figsize=(10, 6))\n",
        "sns.barplot(x='Importance', y='Feature', data=importances.head(15), palette='viridis')\n",
        "plt.title('Top 15 Feature Importances (Random Forest)')\n",
        "plt.tight_layout()\n",
        "plt.show()\n"
      ],
      "metadata": {
        "colab": {
          "base_uri": "https://localhost:8080/",
          "height": 1000
        },
        "id": "4zHoLKbKkPyK",
        "outputId": "f432f3e6-255c-4333-924a-63d7794c6b7a"
      },
      "execution_count": 57,
      "outputs": [
        {
          "output_type": "stream",
          "name": "stdout",
          "text": [
            "Top 15 Important Features:\n",
            "                          Feature  Importance\n",
            "5                Discount_Applied    0.114139\n",
            "0                   Product_Price    0.114044\n",
            "3                        User_Age    0.094540\n",
            "2                  Days_to_Return    0.079197\n",
            "114                   Order_Month    0.068835\n",
            "115               Order_DayOfWeek    0.055731\n",
            "1                  Order_Quantity    0.046083\n",
            "14       Shipping_Method_Standard    0.018187\n",
            "13       Shipping_Method_Next-Day    0.017285\n",
            "12          Payment_Method_PayPal    0.016184\n",
            "10      Payment_Method_Debit Card    0.015744\n",
            "11       Payment_Method_Gift Card    0.015544\n",
            "8           Product_Category_Home    0.014902\n",
            "6       Product_Category_Clothing    0.014858\n",
            "7    Product_Category_Electronics    0.014852\n"
          ]
        },
        {
          "output_type": "stream",
          "name": "stderr",
          "text": [
            "<ipython-input-57-fb318cede318>:23: FutureWarning: \n",
            "\n",
            "Passing `palette` without assigning `hue` is deprecated and will be removed in v0.14.0. Assign the `y` variable to `hue` and set `legend=False` for the same effect.\n",
            "\n",
            "  sns.barplot(x='Importance', y='Feature', data=importances.head(15), palette='viridis')\n"
          ]
        },
        {
          "output_type": "display_data",
          "data": {
            "text/plain": [
              "<Figure size 1000x600 with 1 Axes>"
            ],
            "image/png": "[encoded data removed]"
          },
          "metadata": {}
        }
      ]
    },
    {
      "cell_type": "markdown",
      "source": [
        "**downloading df_cleaned**"
      ],
      "metadata": {
        "id": "OV7CD_halcI5"
      }
    },
    {
      "cell_type": "code",
      "source": [
        "df_cleaned.to_csv('cleaned_ecommerce_data.csv', index=False)\n",
        "\n",
        "from google.colab import files\n",
        "files.download('cleaned_ecommerce_data.csv')\n"
      ],
      "metadata": {
        "colab": {
          "base_uri": "https://localhost:8080/",
          "height": 17
        },
        "id": "2IiH1dP4lhUV",
        "outputId": "2be572e5-7ee1-41d5-f8a3-00c45cff0199"
      },
      "execution_count": 59,
      "outputs": [
        {
          "output_type": "display_data",
          "data": {
            "text/plain": [
              "<IPython.core.display.Javascript object>"
            ],
            "application/javascript": [
              "\n",
              "    async function download(id, filename, size) {\n",
              "      if (!google.colab.kernel.accessAllowed) {\n",
              "        return;\n",
              "      }\n",
              "      const div = document.createElement('div');\n",
              "      const label = document.createElement('label');\n",
              "      label.textContent = `Downloading \"${filename}\": `;\n",
              "      div.appendChild(label);\n",
              "      const progress = document.createElement('progress');\n",
              "      progress.max = size;\n",
              "      div.appendChild(progress);\n",
              "      document.body.appendChild(div);\n",
              "\n",
              "      const buffers = [];\n",
              "      let downloaded = 0;\n",
              "\n",
              "      const channel = await google.colab.kernel.comms.open(id);\n",
              "      // Send a message to notify the kernel that we're ready.\n",
              "      channel.send({})\n",
              "\n",
              "      for await (const message of channel.messages) {\n",
              "        // Send a message to notify the kernel that we're ready.\n",
              "        channel.send({})\n",
              "        if (message.buffers) {\n",
              "          for (const buffer of message.buffers) {\n",
              "            buffers.push(buffer);\n",
              "            downloaded += buffer.byteLength;\n",
              "            progress.value = downloaded;\n",
              "          }\n",
              "        }\n",
              "      }\n",
              "      const blob = new Blob(buffers, {type: 'application/binary'});\n",
              "      const a = document.createElement('a');\n",
              "      a.href = window.URL.createObjectURL(blob);\n",
              "      a.download = filename;\n",
              "      div.appendChild(a);\n",
              "      a.click();\n",
              "      div.remove();\n",
              "    }\n",
              "  "
            ]
          },
          "metadata": {}
        },
        {
          "output_type": "display_data",
          "data": {
            "text/plain": [
              "<IPython.core.display.Javascript object>"
            ],
            "application/javascript": [
              "download(\"download_9c62970e-9f7a-4b54-9a20-092913beed5e\", \"cleaned_ecommerce_data.csv\", 7517700)"
            ]
          },
          "metadata": {}
        }
      ]
    },
    {
      "cell_type": "markdown",
      "source": [
        "---"
      ],
      "metadata": {
        "id": "krhvGX3yl_zp"
      }
    },
    {
      "cell_type": "markdown",
      "source": [
        "#2: Data Understanding & Exploration"
      ],
      "metadata": {
        "id": "FEfio3Y8mAgS"
      }
    },
    {
      "cell_type": "markdown",
      "source": [
        "## 1: Dataset"
      ],
      "metadata": {
        "id": "EdSDrY9hmDj0"
      }
    },
    {
      "cell_type": "markdown",
      "source": [
        "\n",
        "###1.1 Load and Inspect the Cleaned Dataset\n"
      ],
      "metadata": {
        "id": "NBW06DX2mH37"
      }
    },
    {
      "cell_type": "code",
      "source": [
        "print(\" Number of Rows and Columns:\", df_cleaned.shape)\n",
        "\n",
        "print(\"\\nColumn Names:\")\n",
        "print(df_cleaned.columns.tolist())\n"
      ],
      "metadata": {
        "colab": {
          "base_uri": "https://localhost:8080/"
        },
        "id": "yWkFdjdTmPJx",
        "outputId": "fda6971f-3b42-4d30-dec2-f30e13819d3a"
      },
      "execution_count": 61,
      "outputs": [
        {
          "output_type": "stream",
          "name": "stdout",
          "text": [
            " Number of Rows and Columns: (10000, 117)\n",
            "\n",
            "Column Names:\n",
            "['Product_Price', 'Order_Quantity', 'Days_to_Return', 'User_Age', 'User_Gender', 'Discount_Applied', 'Product_Category_Clothing', 'Product_Category_Electronics', 'Product_Category_Home', 'Product_Category_Toys', 'Payment_Method_Debit Card', 'Payment_Method_Gift Card', 'Payment_Method_PayPal', 'Shipping_Method_Next-Day', 'Shipping_Method_Standard', 'User_Location_City10', 'User_Location_City100', 'User_Location_City11', 'User_Location_City12', 'User_Location_City13', 'User_Location_City14', 'User_Location_City15', 'User_Location_City16', 'User_Location_City17', 'User_Location_City18', 'User_Location_City19', 'User_Location_City2', 'User_Location_City20', 'User_Location_City21', 'User_Location_City22', 'User_Location_City23', 'User_Location_City24', 'User_Location_City25', 'User_Location_City26', 'User_Location_City27', 'User_Location_City28', 'User_Location_City29', 'User_Location_City3', 'User_Location_City30', 'User_Location_City31', 'User_Location_City32', 'User_Location_City33', 'User_Location_City34', 'User_Location_City35', 'User_Location_City36', 'User_Location_City37', 'User_Location_City38', 'User_Location_City39', 'User_Location_City4', 'User_Location_City40', 'User_Location_City41', 'User_Location_City42', 'User_Location_City43', 'User_Location_City44', 'User_Location_City45', 'User_Location_City46', 'User_Location_City47', 'User_Location_City48', 'User_Location_City49', 'User_Location_City5', 'User_Location_City50', 'User_Location_City51', 'User_Location_City52', 'User_Location_City53', 'User_Location_City54', 'User_Location_City55', 'User_Location_City56', 'User_Location_City57', 'User_Location_City58', 'User_Location_City59', 'User_Location_City6', 'User_Location_City60', 'User_Location_City61', 'User_Location_City62', 'User_Location_City63', 'User_Location_City64', 'User_Location_City65', 'User_Location_City66', 'User_Location_City67', 'User_Location_City68', 'User_Location_City69', 'User_Location_City7', 'User_Location_City70', 'User_Location_City71', 'User_Location_City72', 'User_Location_City73', 'User_Location_City74', 'User_Location_City75', 'User_Location_City76', 'User_Location_City77', 'User_Location_City78', 'User_Location_City79', 'User_Location_City8', 'User_Location_City80', 'User_Location_City81', 'User_Location_City82', 'User_Location_City83', 'User_Location_City84', 'User_Location_City85', 'User_Location_City86', 'User_Location_City87', 'User_Location_City88', 'User_Location_City89', 'User_Location_City9', 'User_Location_City90', 'User_Location_City91', 'User_Location_City92', 'User_Location_City93', 'User_Location_City94', 'User_Location_City95', 'User_Location_City96', 'User_Location_City97', 'User_Location_City98', 'User_Location_City99', 'Order_Month', 'Order_DayOfWeek', 'Return']\n"
          ]
        }
      ]
    },
    {
      "cell_type": "markdown",
      "source": [
        "###1.2 Understand Feature Data Types & Missing Values"
      ],
      "metadata": {
        "id": "1zuJbu-bmWfI"
      }
    },
    {
      "cell_type": "code",
      "source": [
        "print(\"Feature Data Types & Missing Value Summary:\")\n",
        "df_cleaned.info()\n"
      ],
      "metadata": {
        "colab": {
          "base_uri": "https://localhost:8080/"
        },
        "id": "9gM9u8HumZgp",
        "outputId": "91eaec2e-f71f-4785-fa9c-be9006203da7"
      },
      "execution_count": 62,
      "outputs": [
        {
          "output_type": "stream",
          "name": "stdout",
          "text": [
            "Feature Data Types & Missing Value Summary:\n",
            "<class 'pandas.core.frame.DataFrame'>\n",
            "RangeIndex: 10000 entries, 0 to 9999\n",
            "Columns: 117 entries, Product_Price to Return\n",
            "dtypes: bool(108), float64(6), int32(2), int64(1)\n",
            "memory usage: 1.6 MB\n"
          ]
        }
      ]
    },
    {
      "cell_type": "markdown",
      "source": [
        "###1.3 Preview the Data (First Few Rows)"
      ],
      "metadata": {
        "id": "CvuYDkCHmgyl"
      }
    },
    {
      "cell_type": "code",
      "source": [
        "df_cleaned.head()\n"
      ],
      "metadata": {
        "colab": {
          "base_uri": "https://localhost:8080/",
          "height": 255
        },
        "id": "cBwrQn38mqVR",
        "outputId": "b2431c53-320c-441c-a805-c7d7be31ea1c"
      },
      "execution_count": 63,
      "outputs": [
        {
          "output_type": "execute_result",
          "data": {
            "text/plain": [
              "   Product_Price  Order_Quantity  Days_to_Return  User_Age  User_Gender  \\\n",
              "0       1.114392       -0.004336        1.823908  0.901627          NaN   \n",
              "1       0.255540       -0.004336        0.142911  1.554742          NaN   \n",
              "2       0.963493        1.417410       -0.003468 -1.449591          NaN   \n",
              "3       1.040902       -0.004336       -0.003468 -0.273982          NaN   \n",
              "4      -0.995819        0.706537       -0.003468 -0.665852          NaN   \n",
              "\n",
              "   Discount_Applied  Product_Category_Clothing  Product_Category_Electronics  \\\n",
              "0          1.411842                       True                         False   \n",
              "1          1.587297                      False                         False   \n",
              "2          0.114731                      False                         False   \n",
              "3         -0.669942                      False                         False   \n",
              "4         -0.600317                      False                         False   \n",
              "\n",
              "   Product_Category_Home  Product_Category_Toys  ...  User_Location_City93  \\\n",
              "0                  False                  False  ...                 False   \n",
              "1                  False                  False  ...                 False   \n",
              "2                  False                   True  ...                 False   \n",
              "3                  False                   True  ...                 False   \n",
              "4                  False                  False  ...                 False   \n",
              "\n",
              "   User_Location_City94  User_Location_City95  User_Location_City96  \\\n",
              "0                 False                 False                 False   \n",
              "1                 False                 False                 False   \n",
              "2                 False                 False                 False   \n",
              "3                 False                  True                 False   \n",
              "4                 False                 False                 False   \n",
              "\n",
              "   User_Location_City97  User_Location_City98  User_Location_City99  \\\n",
              "0                 False                 False                 False   \n",
              "1                 False                 False                 False   \n",
              "2                 False                 False                 False   \n",
              "3                 False                 False                 False   \n",
              "4                 False                 False                 False   \n",
              "\n",
              "   Order_Month  Order_DayOfWeek  Return  \n",
              "0            8                5       0  \n",
              "1           10                0       1  \n",
              "2            5                5       1  \n",
              "3            8                3       0  \n",
              "4            1                0       1  \n",
              "\n",
              "[5 rows x 117 columns]"
            ],
            "text/html": [
              "\n",
              "  <div id=\"df-77677a30-28da-4006-8c3a-c3b56af6a1a4\" class=\"colab-df-container\">\n",
              "    <div>\n",
              "<style scoped>\n",
              "    .dataframe tbody tr th:only-of-type {\n",
              "        vertical-align: middle;\n",
              "    }\n",
              "\n",
              "    .dataframe tbody tr th {\n",
              "        vertical-align: top;\n",
              "    }\n",
              "\n",
              "    .dataframe thead th {\n",
              "        text-align: right;\n",
              "    }\n",
              "</style>\n",
              "<table border=\"1\" class=\"dataframe\">\n",
              "  <thead>\n",
              "    <tr style=\"text-align: right;\">\n",
              "      <th></th>\n",
              "      <th>Product_Price</th>\n",
              "      <th>Order_Quantity</th>\n",
              "      <th>Days_to_Return</th>\n",
              "      <th>User_Age</th>\n",
              "      <th>User_Gender</th>\n",
              "      <th>Discount_Applied</th>\n",
              "      <th>Product_Category_Clothing</th>\n",
              "      <th>Product_Category_Electronics</th>\n",
              "      <th>Product_Category_Home</th>\n",
              "      <th>Product_Category_Toys</th>\n",
              "      <th>...</th>\n",
              "      <th>User_Location_City93</th>\n",
              "      <th>User_Location_City94</th>\n",
              "      <th>User_Location_City95</th>\n",
              "      <th>User_Location_City96</th>\n",
              "      <th>User_Location_City97</th>\n",
              "      <th>User_Location_City98</th>\n",
              "      <th>User_Location_City99</th>\n",
              "      <th>Order_Month</th>\n",
              "      <th>Order_DayOfWeek</th>\n",
              "      <th>Return</th>\n",
              "    </tr>\n",
              "  </thead>\n",
              "  <tbody>\n",
              "    <tr>\n",
              "      <th>0</th>\n",
              "      <td>1.114392</td>\n",
              "      <td>-0.004336</td>\n",
              "      <td>1.823908</td>\n",
              "      <td>0.901627</td>\n",
              "      <td>NaN</td>\n",
              "      <td>1.411842</td>\n",
              "      <td>True</td>\n",
              "      <td>False</td>\n",
              "      <td>False</td>\n",
              "      <td>False</td>\n",
              "      <td>...</td>\n",
              "      <td>False</td>\n",
              "      <td>False</td>\n",
              "      <td>False</td>\n",
              "      <td>False</td>\n",
              "      <td>False</td>\n",
              "      <td>False</td>\n",
              "      <td>False</td>\n",
              "      <td>8</td>\n",
              "      <td>5</td>\n",
              "      <td>0</td>\n",
              "    </tr>\n",
              "    <tr>\n",
              "      <th>1</th>\n",
              "      <td>0.255540</td>\n",
              "      <td>-0.004336</td>\n",
              "      <td>0.142911</td>\n",
              "      <td>1.554742</td>\n",
              "      <td>NaN</td>\n",
              "      <td>1.587297</td>\n",
              "      <td>False</td>\n",
              "      <td>False</td>\n",
              "      <td>False</td>\n",
              "      <td>False</td>\n",
              "      <td>...</td>\n",
              "      <td>False</td>\n",
              "      <td>False</td>\n",
              "      <td>False</td>\n",
              "      <td>False</td>\n",
              "      <td>False</td>\n",
              "      <td>False</td>\n",
              "      <td>False</td>\n",
              "      <td>10</td>\n",
              "      <td>0</td>\n",
              "      <td>1</td>\n",
              "    </tr>\n",
              "    <tr>\n",
              "      <th>2</th>\n",
              "      <td>0.963493</td>\n",
              "      <td>1.417410</td>\n",
              "      <td>-0.003468</td>\n",
              "      <td>-1.449591</td>\n",
              "      <td>NaN</td>\n",
              "      <td>0.114731</td>\n",
              "      <td>False</td>\n",
              "      <td>False</td>\n",
              "      <td>False</td>\n",
              "      <td>True</td>\n",
              "      <td>...</td>\n",
              "      <td>False</td>\n",
              "      <td>False</td>\n",
              "      <td>False</td>\n",
              "      <td>False</td>\n",
              "      <td>False</td>\n",
              "      <td>False</td>\n",
              "      <td>False</td>\n",
              "      <td>5</td>\n",
              "      <td>5</td>\n",
              "      <td>1</td>\n",
              "    </tr>\n",
              "    <tr>\n",
              "      <th>3</th>\n",
              "      <td>1.040902</td>\n",
              "      <td>-0.004336</td>\n",
              "      <td>-0.003468</td>\n",
              "      <td>-0.273982</td>\n",
              "      <td>NaN</td>\n",
              "      <td>-0.669942</td>\n",
              "      <td>False</td>\n",
              "      <td>False</td>\n",
              "      <td>False</td>\n",
              "      <td>True</td>\n",
              "      <td>...</td>\n",
              "      <td>False</td>\n",
              "      <td>False</td>\n",
              "      <td>True</td>\n",
              "      <td>False</td>\n",
              "      <td>False</td>\n",
              "      <td>False</td>\n",
              "      <td>False</td>\n",
              "      <td>8</td>\n",
              "      <td>3</td>\n",
              "      <td>0</td>\n",
              "    </tr>\n",
              "    <tr>\n",
              "      <th>4</th>\n",
              "      <td>-0.995819</td>\n",
              "      <td>0.706537</td>\n",
              "      <td>-0.003468</td>\n",
              "      <td>-0.665852</td>\n",
              "      <td>NaN</td>\n",
              "      <td>-0.600317</td>\n",
              "      <td>False</td>\n",
              "      <td>False</td>\n",
              "      <td>False</td>\n",
              "      <td>False</td>\n",
              "      <td>...</td>\n",
              "      <td>False</td>\n",
              "      <td>False</td>\n",
              "      <td>False</td>\n",
              "      <td>False</td>\n",
              "      <td>False</td>\n",
              "      <td>False</td>\n",
              "      <td>False</td>\n",
              "      <td>1</td>\n",
              "      <td>0</td>\n",
              "      <td>1</td>\n",
              "    </tr>\n",
              "  </tbody>\n",
              "</table>\n",
              "<p>5 rows × 117 columns</p>\n",
              "</div>\n",
              "    <div class=\"colab-df-buttons\">\n",
              "\n",
              "  <div class=\"colab-df-container\">\n",
              "    <button class=\"colab-df-convert\" onclick=\"convertToInteractive('df-77677a30-28da-4006-8c3a-c3b56af6a1a4')\"\n",
              "            title=\"Convert this dataframe to an interactive table.\"\n",
              "            style=\"display:none;\">\n",
              "\n",
              "  <svg xmlns=\"http://www.w3.org/2000/svg\" height=\"24px\" viewBox=\"0 -960 960 960\">\n",
              "    <path d=\"M120-120v-720h720v720H120Zm60-500h600v-160H180v160Zm220 220h160v-160H400v160Zm0 220h160v-160H400v160ZM180-400h160v-160H180v160Zm440 0h160v-160H620v160ZM180-180h160v-160H180v160Zm440 0h160v-160H620v160Z\"/>\n",
              "  </svg>\n",
              "    </button>\n",
              "\n",
              "  <style>\n",
              "    .colab-df-container {\n",
              "      display:flex;\n",
              "      gap: 12px;\n",
              "    }\n",
              "\n",
              "    .colab-df-convert {\n",
              "      background-color: #E8F0FE;\n",
              "      border: none;\n",
              "      border-radius: 50%;\n",
              "      cursor: pointer;\n",
              "      display: none;\n",
              "      fill: #1967D2;\n",
              "      height: 32px;\n",
              "      padding: 0 0 0 0;\n",
              "      width: 32px;\n",
              "    }\n",
              "\n",
              "    .colab-df-convert:hover {\n",
              "      background-color: #E2EBFA;\n",
              "      box-shadow: 0px 1px 2px rgba(60, 64, 67, 0.3), 0px 1px 3px 1px rgba(60, 64, 67, 0.15);\n",
              "      fill: #174EA6;\n",
              "    }\n",
              "\n",
              "    .colab-df-buttons div {\n",
              "      margin-bottom: 4px;\n",
              "    }\n",
              "\n",
              "    [theme=dark] .colab-df-convert {\n",
              "      background-color: #3B4455;\n",
              "      fill: #D2E3FC;\n",
              "    }\n",
              "\n",
              "    [theme=dark] .colab-df-convert:hover {\n",
              "      background-color: #434B5C;\n",
              "      box-shadow: 0px 1px 3px 1px rgba(0, 0, 0, 0.15);\n",
              "      filter: drop-shadow(0px 1px 2px rgba(0, 0, 0, 0.3));\n",
              "      fill: #FFFFFF;\n",
              "    }\n",
              "  </style>\n",
              "\n",
              "    <script>\n",
              "      const buttonEl =\n",
              "        document.querySelector('#df-77677a30-28da-4006-8c3a-c3b56af6a1a4 button.colab-df-convert');\n",
              "      buttonEl.style.display =\n",
              "        google.colab.kernel.accessAllowed ? 'block' : 'none';\n",
              "\n",
              "      async function convertToInteractive(key) {\n",
              "        const element = document.querySelector('#df-77677a30-28da-4006-8c3a-c3b56af6a1a4');\n",
              "        const dataTable =\n",
              "          await google.colab.kernel.invokeFunction('convertToInteractive',\n",
              "                                                    [key], {});\n",
              "        if (!dataTable) return;\n",
              "\n",
              "        const docLinkHtml = 'Like what you see? Visit the ' +\n",
              "          '<a target=\"_blank\" href=https://colab.research.google.com/notebooks/data_table.ipynb>data table notebook</a>'\n",
              "          + ' to learn more about interactive tables.';\n",
              "        element.innerHTML = '';\n",
              "        dataTable['output_type'] = 'display_data';\n",
              "        await google.colab.output.renderOutput(dataTable, element);\n",
              "        const docLink = document.createElement('div');\n",
              "        docLink.innerHTML = docLinkHtml;\n",
              "        element.appendChild(docLink);\n",
              "      }\n",
              "    </script>\n",
              "  </div>\n",
              "\n",
              "\n",
              "    <div id=\"df-3ecfa595-ab4e-4ac0-a7ce-3ffbfe40b1c5\">\n",
              "      <button class=\"colab-df-quickchart\" onclick=\"quickchart('df-3ecfa595-ab4e-4ac0-a7ce-3ffbfe40b1c5')\"\n",
              "                title=\"Suggest charts\"\n",
              "                style=\"display:none;\">\n",
              "\n",
              "<svg xmlns=\"http://www.w3.org/2000/svg\" height=\"24px\"viewBox=\"0 0 24 24\"\n",
              "     width=\"24px\">\n",
              "    <g>\n",
              "        <path d=\"M19 3H5c-1.1 0-2 .9-2 2v14c0 1.1.9 2 2 2h14c1.1 0 2-.9 2-2V5c0-1.1-.9-2-2-2zM9 17H7v-7h2v7zm4 0h-2V7h2v10zm4 0h-2v-4h2v4z\"/>\n",
              "    </g>\n",
              "</svg>\n",
              "      </button>\n",
              "\n",
              "<style>\n",
              "  .colab-df-quickchart {\n",
              "      --bg-color: #E8F0FE;\n",
              "      --fill-color: #1967D2;\n",
              "      --hover-bg-color: #E2EBFA;\n",
              "      --hover-fill-color: #174EA6;\n",
              "      --disabled-fill-color: #AAA;\n",
              "      --disabled-bg-color: #DDD;\n",
              "  }\n",
              "\n",
              "  [theme=dark] .colab-df-quickchart {\n",
              "      --bg-color: #3B4455;\n",
              "      --fill-color: #D2E3FC;\n",
              "      --hover-bg-color: #434B5C;\n",
              "      --hover-fill-color: #FFFFFF;\n",
              "      --disabled-bg-color: #3B4455;\n",
              "      --disabled-fill-color: #666;\n",
              "  }\n",
              "\n",
              "  .colab-df-quickchart {\n",
              "    background-color: var(--bg-color);\n",
              "    border: none;\n",
              "    border-radius: 50%;\n",
              "    cursor: pointer;\n",
              "    display: none;\n",
              "    fill: var(--fill-color);\n",
              "    height: 32px;\n",
              "    padding: 0;\n",
              "    width: 32px;\n",
              "  }\n",
              "\n",
              "  .colab-df-quickchart:hover {\n",
              "    background-color: var(--hover-bg-color);\n",
              "    box-shadow: 0 1px 2px rgba(60, 64, 67, 0.3), 0 1px 3px 1px rgba(60, 64, 67, 0.15);\n",
              "    fill: var(--button-hover-fill-color);\n",
              "  }\n",
              "\n",
              "  .colab-df-quickchart-complete:disabled,\n",
              "  .colab-df-quickchart-complete:disabled:hover {\n",
              "    background-color: var(--disabled-bg-color);\n",
              "    fill: var(--disabled-fill-color);\n",
              "    box-shadow: none;\n",
              "  }\n",
              "\n",
              "  .colab-df-spinner {\n",
              "    border: 2px solid var(--fill-color);\n",
              "    border-color: transparent;\n",
              "    border-bottom-color: var(--fill-color);\n",
              "    animation:\n",
              "      spin 1s steps(1) infinite;\n",
              "  }\n",
              "\n",
              "  @keyframes spin {\n",
              "    0% {\n",
              "      border-color: transparent;\n",
              "      border-bottom-color: var(--fill-color);\n",
              "      border-left-color: var(--fill-color);\n",
              "    }\n",
              "    20% {\n",
              "      border-color: transparent;\n",
              "      border-left-color: var(--fill-color);\n",
              "      border-top-color: var(--fill-color);\n",
              "    }\n",
              "    30% {\n",
              "      border-color: transparent;\n",
              "      border-left-color: var(--fill-color);\n",
              "      border-top-color: var(--fill-color);\n",
              "      border-right-color: var(--fill-color);\n",
              "    }\n",
              "    40% {\n",
              "      border-color: transparent;\n",
              "      border-right-color: var(--fill-color);\n",
              "      border-top-color: var(--fill-color);\n",
              "    }\n",
              "    60% {\n",
              "      border-color: transparent;\n",
              "      border-right-color: var(--fill-color);\n",
              "    }\n",
              "    80% {\n",
              "      border-color: transparent;\n",
              "      border-right-color: var(--fill-color);\n",
              "      border-bottom-color: var(--fill-color);\n",
              "    }\n",
              "    90% {\n",
              "      border-color: transparent;\n",
              "      border-bottom-color: var(--fill-color);\n",
              "    }\n",
              "  }\n",
              "</style>\n",
              "\n",
              "      <script>\n",
              "        async function quickchart(key) {\n",
              "          const quickchartButtonEl =\n",
              "            document.querySelector('#' + key + ' button');\n",
              "          quickchartButtonEl.disabled = true;  // To prevent multiple clicks.\n",
              "          quickchartButtonEl.classList.add('colab-df-spinner');\n",
              "          try {\n",
              "            const charts = await google.colab.kernel.invokeFunction(\n",
              "                'suggestCharts', [key], {});\n",
              "          } catch (error) {\n",
              "            console.error('Error during call to suggestCharts:', error);\n",
              "          }\n",
              "          quickchartButtonEl.classList.remove('colab-df-spinner');\n",
              "          quickchartButtonEl.classList.add('colab-df-quickchart-complete');\n",
              "        }\n",
              "        (() => {\n",
              "          let quickchartButtonEl =\n",
              "            document.querySelector('#df-3ecfa595-ab4e-4ac0-a7ce-3ffbfe40b1c5 button');\n",
              "          quickchartButtonEl.style.display =\n",
              "            google.colab.kernel.accessAllowed ? 'block' : 'none';\n",
              "        })();\n",
              "      </script>\n",
              "    </div>\n",
              "\n",
              "    </div>\n",
              "  </div>\n"
            ],
            "application/vnd.google.colaboratory.intrinsic+json": {
              "type": "dataframe",
              "variable_name": "df_cleaned"
            }
          },
          "metadata": {},
          "execution_count": 63
        }
      ]
    },
    {
      "cell_type": "markdown",
      "source": [
        "### 1.4 Understand the Target Variable Return (Binary: Yes / No)"
      ],
      "metadata": {
        "id": "WyRjEw08m6UI"
      }
    },
    {
      "cell_type": "code",
      "source": [
        "print(\" Target Variable - 'Return' (0 = Not Returned, 1 = Returned):\\n\")\n",
        "print(df_cleaned['Return'].value_counts())\n",
        "\n",
        "print(\"\\n Percentage Distribution:\")\n",
        "print(df_cleaned['Return'].value_counts(normalize=True) * 100)\n",
        "\n",
        "import seaborn as sns\n",
        "import matplotlib.pyplot as plt\n",
        "\n",
        "plt.figure(figsize=(6, 4))\n",
        "sns.countplot(x='Return', data=df_cleaned, palette='pastel', legend=False)\n",
        "plt.title('Distribution of Target Variable: Return')\n",
        "plt.xticks([0, 1], ['Not Returned', 'Returned'])\n",
        "plt.ylabel('Count')\n",
        "plt.xlabel('Return Status')\n",
        "plt.legend()\n",
        "plt.show()\n"
      ],
      "metadata": {
        "colab": {
          "base_uri": "https://localhost:8080/",
          "height": 760
        },
        "id": "Zew-A_Inm9s9",
        "outputId": "e453ad61-0aeb-455c-eebd-73e058cf7fbe"
      },
      "execution_count": 67,
      "outputs": [
        {
          "output_type": "stream",
          "name": "stdout",
          "text": [
            " Target Variable - 'Return' (0 = Not Returned, 1 = Returned):\n",
            "\n",
            "Return\n",
            "1    5010\n",
            "0    4990\n",
            "Name: count, dtype: int64\n",
            "\n",
            " Percentage Distribution:\n",
            "Return\n",
            "1    50.1\n",
            "0    49.9\n",
            "Name: proportion, dtype: float64\n"
          ]
        },
        {
          "output_type": "stream",
          "name": "stderr",
          "text": [
            "<ipython-input-67-253b2a4e66c9>:11: FutureWarning: \n",
            "\n",
            "Passing `palette` without assigning `hue` is deprecated and will be removed in v0.14.0. Assign the `x` variable to `hue` and set `legend=False` for the same effect.\n",
            "\n",
            "  sns.countplot(x='Return', data=df_cleaned, palette='pastel', legend=False)\n",
            "<ipython-input-67-253b2a4e66c9>:16: UserWarning: No artists with labels found to put in legend.  Note that artists whose label start with an underscore are ignored when legend() is called with no argument.\n",
            "  plt.legend()\n"
          ]
        },
        {
          "output_type": "display_data",
          "data": {
            "text/plain": [
              "<Figure size 600x400 with 1 Axes>"
            ],
            "image/png": "[encoded data removed]"
          },
          "metadata": {}
        }
      ]
    },
    {
      "cell_type": "markdown",
      "source": [
        " Balanced Dataset: The class distribution is nearly perfectly balanced, meaning:\n",
        "\n",
        "- No need for oversampling (SMOTE) or undersampling.\n",
        "\n",
        "- You can train classification models directly without worrying about imbalance bias."
      ],
      "metadata": {
        "id": "OeNMhPwJpJj9"
      }
    }
  ]
}